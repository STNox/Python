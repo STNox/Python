{
 "cells": [
  {
   "cell_type": "markdown",
   "metadata": {},
   "source": [
    "### 연습문제 12.4"
   ]
  },
  {
   "cell_type": "code",
   "execution_count": 1,
   "metadata": {},
   "outputs": [],
   "source": [
    "mammoth = '''\n",
    "We have seen thee, queen of cheese,\n",
    "Lying quietly at your ease,\n",
    "Gently fanned by evening breeze,\n",
    "Thy fair form no flies dare seize.\n",
    "\n",
    "All gaily dressed soon you'll go\n",
    "To the great Provincial show,\n",
    "To be admired by many a beau\n",
    "In the city of Toronto.\n",
    "\n",
    "Cows numerous as a swarm of bees,\n",
    "Or as the leaves upon the trees,\n",
    "It did require to make thee please,\n",
    "And stand unrivalled, queen of cheese.\n",
    "\n",
    "May you not receive a scar as\n",
    "We have heard that Mr. Harris\n",
    "Intends to send you off as far as\n",
    "The great world's show at Paris.\n",
    "\n",
    "Of the youth beware of these,\n",
    "For some of them might rudely squeeze\n",
    "And bite your cheek, then songs or glees\n",
    "We could not sing, oh! queen of cheese.\n",
    "\n",
    "We'rt thou suspended from balloon,\n",
    "You'd cast a shade even at noon,\n",
    "Folks would think it was the moon\n",
    "About to fall and crush them soon.\n",
    "'''\n"
   ]
  },
  {
   "cell_type": "markdown",
   "metadata": {},
   "source": [
    "### 연습문제 12.5"
   ]
  },
  {
   "cell_type": "code",
   "execution_count": 3,
   "metadata": {},
   "outputs": [],
   "source": [
    "import re"
   ]
  },
  {
   "cell_type": "markdown",
   "metadata": {},
   "source": [
    "### 연습문제 12.6"
   ]
  },
  {
   "cell_type": "code",
   "execution_count": 44,
   "metadata": {},
   "outputs": [
    {
     "name": "stdout",
     "output_type": "stream",
     "text": [
      "c로 시작하는 네 글자 단어: city, cows, cast\n"
     ]
    }
   ],
   "source": [
    "mammoth = mammoth.lower()\n",
    "m = re.findall(' c[a-z]{3} |\\nc[a-z]{3} | c[a-z]{3}\\n', mammoth)\n",
    "words = []\n",
    "for i in range(len(m)):\n",
    "    words.append(m[i].strip(' \\n'))\n",
    "print(f\"c로 시작하는 네 글자 단어: {', '.join(words)}\")"
   ]
  },
  {
   "cell_type": "markdown",
   "metadata": {},
   "source": [
    "### 연습문제 12.7"
   ]
  },
  {
   "cell_type": "code",
   "execution_count": 45,
   "metadata": {},
   "outputs": [
    {
     "name": "stdout",
     "output_type": "stream",
     "text": [
      "r로 끝나는 단어: scar, your, or, for, fair, far\n"
     ]
    }
   ],
   "source": [
    "r = re.findall('[a-z]*r |[a-z]*r\\n', mammoth)\n",
    "r_set = set(r)\n",
    "r = list(r_set)\n",
    "words2 = []\n",
    "for i in range(len(r)):\n",
    "    words2.append(r[i].strip(' \\n'))\n",
    "print(f\"r로 끝나는 단어: {', '.join(words2)}\")"
   ]
  },
  {
   "cell_type": "markdown",
   "metadata": {},
   "source": [
    "### 연습문제 12.8"
   ]
  },
  {
   "cell_type": "code",
   "execution_count": 47,
   "metadata": {},
   "outputs": [
    {
     "name": "stdout",
     "output_type": "stream",
     "text": [
      "모음이 연속 세 번 나오는 단어: beau, squeeze, quietly, queen\n"
     ]
    }
   ],
   "source": [
    "three_vow = re.findall(' [a-z]*[aeiou]{3}[a-z]* |\\n[a-z]*[aeiou]{3}[a-z]* | [a-z]*[aeiou]{3}[a-z]*\\n', mammoth)\n",
    "tv_set = set(three_vow)\n",
    "three_vow = list(tv_set)\n",
    "words3 = []\n",
    "for i in range(len(three_vow)):\n",
    "    words3.append(three_vow[i].strip(' \\n'))\n",
    "print(f\"모음이 연속 세 번 나오는 단어: {', '.join(words3)}\")"
   ]
  },
  {
   "cell_type": "markdown",
   "metadata": {},
   "source": [
    "### 연습문제 13.1"
   ]
  },
  {
   "cell_type": "code",
   "execution_count": 53,
   "metadata": {},
   "outputs": [],
   "source": [
    "import datetime\n",
    "from datetime import date \n",
    "now = date.today()\n",
    "with open('today.txt', 'w') as file:\n",
    "    file.write(f'{now}')"
   ]
  },
  {
   "cell_type": "markdown",
   "metadata": {},
   "source": [
    "### 연습문제 13.2"
   ]
  },
  {
   "cell_type": "code",
   "execution_count": 54,
   "metadata": {},
   "outputs": [
    {
     "name": "stdout",
     "output_type": "stream",
     "text": [
      "2020-11-05\n"
     ]
    }
   ],
   "source": [
    "today_string = ''\n",
    "with open('today.txt', 'r') as file:\n",
    "    d_today = file.read()\n",
    "    today_string += d_today\n",
    "print(today_string)"
   ]
  },
  {
   "cell_type": "markdown",
   "metadata": {},
   "source": [
    "### 연습문제 13.3"
   ]
  },
  {
   "cell_type": "code",
   "execution_count": 56,
   "metadata": {},
   "outputs": [
    {
     "name": "stdout",
     "output_type": "stream",
     "text": [
      "2020-11-05 00:00:00\n"
     ]
    }
   ],
   "source": [
    "today_obj = datetime.datetime.strptime(today_string, '%Y-%m-%d')\n",
    "print(today_obj)"
   ]
  },
  {
   "cell_type": "markdown",
   "metadata": {},
   "source": [
    "### 연습문제 13.4"
   ]
  },
  {
   "cell_type": "code",
   "execution_count": 68,
   "metadata": {},
   "outputs": [
    {
     "name": "stdout",
     "output_type": "stream",
     "text": [
      "1993-04-26\n"
     ]
    }
   ],
   "source": [
    "my_bd = date(1993, 4, 26)\n",
    "print(my_bd)"
   ]
  },
  {
   "cell_type": "markdown",
   "metadata": {},
   "source": [
    "### 연습문제 13.5"
   ]
  },
  {
   "cell_type": "code",
   "execution_count": null,
   "metadata": {},
   "outputs": [],
   "source": []
  },
  {
   "cell_type": "code",
   "execution_count": 73,
   "metadata": {},
   "outputs": [
    {
     "name": "stdout",
     "output_type": "stream",
     "text": [
      "생일은 월요일\n"
     ]
    }
   ],
   "source": [
    "def getDayName(y, m, d):\n",
    "    dayString = ['월', '화', '수', '목', '금', '토', '일']\n",
    "    return dayString[datetime.date(y, m, d).weekday()]\n",
    "year = my_bd.year\n",
    "month = my_bd.month\n",
    "day = my_bd.day\n",
    "date_bd = getDayName(year, month, day)\n",
    "print(f'생일은 {date_bd}요일')"
   ]
  },
  {
   "cell_type": "markdown",
   "metadata": {},
   "source": [
    "### 연습문제 13.6"
   ]
  },
  {
   "cell_type": "code",
   "execution_count": 80,
   "metadata": {},
   "outputs": [
    {
     "name": "stdout",
     "output_type": "stream",
     "text": [
      "생일 10000일 후 날짜는 2020-09-11\n"
     ]
    }
   ],
   "source": [
    "from datetime import datetime, timedelta\n",
    "import time\n",
    "day_after = my_bd + timedelta(seconds=10000 * 24 * 60 * 60)\n",
    "print(f'생일 10000일 후 날짜는 {day_after}')\n"
   ]
  },
  {
   "cell_type": "code",
   "execution_count": null,
   "metadata": {},
   "outputs": [],
   "source": []
  }
 ],
 "metadata": {
  "kernelspec": {
   "display_name": "Python 3",
   "language": "python",
   "name": "python3"
  },
  "language_info": {
   "codemirror_mode": {
    "name": "ipython",
    "version": 3
   },
   "file_extension": ".py",
   "mimetype": "text/x-python",
   "name": "python",
   "nbconvert_exporter": "python",
   "pygments_lexer": "ipython3",
   "version": "3.8.3"
  }
 },
 "nbformat": 4,
 "nbformat_minor": 2
}
