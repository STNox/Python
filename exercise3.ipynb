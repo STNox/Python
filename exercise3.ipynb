{
 "cells": [
  {
   "cell_type": "markdown",
   "metadata": {},
   "source": [
    "### 연습문제 1"
   ]
  },
  {
   "cell_type": "code",
   "execution_count": 17,
   "metadata": {},
   "outputs": [
    {
     "name": "stdout",
     "output_type": "stream",
     "text": [
      "5\n",
      "1에서 5까지의 제곱의 합: 55, 합의 제곱: 225\n"
     ]
    }
   ],
   "source": [
    "n = int(input())\n",
    "def sum_n_pow(n):\n",
    "    pow_sum = 0\n",
    "    n_sum = 0\n",
    "    for i in range(1, n+1):\n",
    "        pow1 = i * i\n",
    "        pow_sum += pow1\n",
    "        n_sum += i\n",
    "        pow2 = n_sum * n_sum\n",
    "    return pow_sum, pow2\n",
    "a = sum_n_pow(n)\n",
    "print(f'1에서 {n}까지의 제곱의 합: {a[0]}, 합의 제곱: {a[1]}')"
   ]
  },
  {
   "cell_type": "markdown",
   "metadata": {},
   "source": [
    "### 연습문제 2"
   ]
  },
  {
   "cell_type": "code",
   "execution_count": 28,
   "metadata": {},
   "outputs": [],
   "source": [
    "a = None\n",
    "b = None\n",
    "c = None\n",
    "def pita(a, b, c):\n",
    "    for a in range(1, 1001):\n",
    "        for b in range(1, 1001):\n",
    "            c = 1000 - b - a\n",
    "            if a*a + b*b == c*c:\n",
    "                if a < b and b < c:\n",
    "                    if a + b > c:\n",
    "                        return a, b, c"
   ]
  },
  {
   "cell_type": "code",
   "execution_count": 29,
   "metadata": {},
   "outputs": [
    {
     "name": "stdout",
     "output_type": "stream",
     "text": [
      "(200, 375, 425)\n"
     ]
    }
   ],
   "source": [
    "result = pita(a, b, c)\n",
    "print(result)"
   ]
  },
  {
   "cell_type": "markdown",
   "metadata": {},
   "source": [
    "### 연습문제 3"
   ]
  },
  {
   "cell_type": "code",
   "execution_count": 42,
   "metadata": {},
   "outputs": [],
   "source": [
    "def disp_three():\n",
    "    disp_time = 0\n",
    "    for hour in range(24):\n",
    "        for minute in range(60):\n",
    "            time = str(hour) + ':' + str(minute)\n",
    "            if '3' in time:\n",
    "                disp_time += 60\n",
    "    return disp_time"
   ]
  },
  {
   "cell_type": "code",
   "execution_count": 44,
   "metadata": {},
   "outputs": [
    {
     "name": "stdout",
     "output_type": "stream",
     "text": [
      "3이 표시되는 시간: 29700초\n"
     ]
    }
   ],
   "source": [
    "result = disp_three()\n",
    "print(f'3이 표시되는 시간: {result}초')"
   ]
  },
  {
   "cell_type": "markdown",
   "metadata": {},
   "source": [
    "### 연습문제 4"
   ]
  },
  {
   "cell_type": "code",
   "execution_count": 65,
   "metadata": {},
   "outputs": [],
   "source": [
    "num_count = {'0': 0, '1': 0, '2': 0, '3': 0, '4': 0, '5': 0, '6': 0, '7': 0, '8': 0, '9': 0}\n",
    "nums = list(range(1, 1001))\n",
    "\n",
    "        "
   ]
  },
  {
   "cell_type": "code",
   "execution_count": 66,
   "metadata": {},
   "outputs": [
    {
     "name": "stdout",
     "output_type": "stream",
     "text": [
      "{'0': 0, '1': 0, '2': 0, '3': 0, '4': 0, '5': 0, '6': 0, '7': 0, '8': 0, '9': 0}\n"
     ]
    }
   ],
   "source": [
    "print(result_dict)"
   ]
  },
  {
   "cell_type": "markdown",
   "metadata": {},
   "source": [
    "### 연습문제 5"
   ]
  },
  {
   "cell_type": "code",
   "execution_count": 121,
   "metadata": {},
   "outputs": [],
   "source": [
    "def is_palin(n):\n",
    "    num_str = list(str(n))\n",
    "    print(num_str, type(num_str))\n",
    "    for i in range(len(num_str) // 2):\n",
    "        print(len(num_str), num_str[i], num_str[-1 - i])\n",
    "        if num_str[i] != num_str[-1 - i]:\n",
    "            return False\n",
    "        return True\n",
    "#palins = []\n",
    "#for i in range(100, 1000):\n",
    "#    for k in range(100, 1000):\n",
    "#        mult = i * k\n",
    "#    if is_palin(mult) == True:\n",
    "#        palins.append([i, k, mult])\n",
    "#print(f'가장 큰 대칭수: {palins[-1][2]}, 세 자리 수: {palins[-1][0]}, {palins[-1][1]}')"
   ]
  },
  {
   "cell_type": "code",
   "execution_count": 122,
   "metadata": {},
   "outputs": [
    {
     "name": "stdout",
     "output_type": "stream",
     "text": [
      "['1', '0', '1', '2', '0', '1'] <class 'list'>\n",
      "6 1 1\n"
     ]
    },
    {
     "data": {
      "text/plain": [
       "True"
      ]
     },
     "execution_count": 122,
     "metadata": {},
     "output_type": "execute_result"
    }
   ],
   "source": [
    "is_palin(101201)"
   ]
  },
  {
   "cell_type": "code",
   "execution_count": null,
   "metadata": {},
   "outputs": [],
   "source": []
  }
 ],
 "metadata": {
  "kernelspec": {
   "display_name": "Python 3",
   "language": "python",
   "name": "python3"
  },
  "language_info": {
   "codemirror_mode": {
    "name": "ipython",
    "version": 3
   },
   "file_extension": ".py",
   "mimetype": "text/x-python",
   "name": "python",
   "nbconvert_exporter": "python",
   "pygments_lexer": "ipython3",
   "version": "3.8.3"
  }
 },
 "nbformat": 4,
 "nbformat_minor": 4
}
