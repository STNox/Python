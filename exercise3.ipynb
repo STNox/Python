{
 "cells": [
  {
   "cell_type": "markdown",
   "metadata": {},
   "source": [
    "### 연습문제 1"
   ]
  },
  {
   "cell_type": "code",
   "execution_count": 17,
   "metadata": {},
   "outputs": [
    {
     "name": "stdout",
     "output_type": "stream",
     "text": [
      "5\n",
      "1에서 5까지의 제곱의 합: 55, 합의 제곱: 225\n"
     ]
    }
   ],
   "source": [
    "n = int(input())\n",
    "def sum_n_pow(n):\n",
    "    pow_sum = 0\n",
    "    n_sum = 0\n",
    "    for i in range(1, n+1):\n",
    "        pow1 = i * i\n",
    "        pow_sum += pow1\n",
    "        n_sum += i\n",
    "        pow2 = n_sum * n_sum\n",
    "    return pow_sum, pow2\n",
    "a = sum_n_pow(n)\n",
    "print(f'1에서 {n}까지의 제곱의 합: {a[0]}, 합의 제곱: {a[1]}')"
   ]
  },
  {
   "cell_type": "markdown",
   "metadata": {},
   "source": [
    "### 연습문제 2"
   ]
  },
  {
   "cell_type": "code",
   "execution_count": 28,
   "metadata": {},
   "outputs": [],
   "source": [
    "a = None\n",
    "b = None\n",
    "c = None\n",
    "def pita(a, b, c):\n",
    "    for a in range(1, 1001):\n",
    "        for b in range(1, 1001):\n",
    "            c = 1000 - b - a\n",
    "            if a*a + b*b == c*c:\n",
    "                if a < b and b < c:\n",
    "                    if a + b > c:\n",
    "                        return a, b, c"
   ]
  },
  {
   "cell_type": "code",
   "execution_count": 29,
   "metadata": {},
   "outputs": [
    {
     "name": "stdout",
     "output_type": "stream",
     "text": [
      "(200, 375, 425)\n"
     ]
    }
   ],
   "source": [
    "result = pita(a, b, c)\n",
    "print(result)"
   ]
  },
  {
   "cell_type": "markdown",
   "metadata": {},
   "source": [
    "### 연습문제 3"
   ]
  },
  {
   "cell_type": "code",
   "execution_count": 42,
   "metadata": {},
   "outputs": [],
   "source": [
    "def disp_three():\n",
    "    disp_time = 0\n",
    "    for hour in range(24):\n",
    "        for minute in range(60):\n",
    "            time = str(hour) + ':' + str(minute)\n",
    "            if '3' in time:\n",
    "                disp_time += 60\n",
    "    return disp_time"
   ]
  },
  {
   "cell_type": "code",
   "execution_count": 44,
   "metadata": {},
   "outputs": [
    {
     "name": "stdout",
     "output_type": "stream",
     "text": [
      "3이 표시되는 시간: 29700초\n"
     ]
    }
   ],
   "source": [
    "result = disp_three()\n",
    "print(f'3이 표시되는 시간: {result}초')"
   ]
  },
  {
   "cell_type": "markdown",
   "metadata": {},
   "source": [
    "### 연습문제 4"
   ]
  },
  {
   "cell_type": "code",
   "execution_count": 48,
   "metadata": {},
   "outputs": [
    {
     "name": "stdout",
     "output_type": "stream",
     "text": [
      "['1']\n"
     ]
    },
    {
     "ename": "IndexError",
     "evalue": "list index out of range",
     "output_type": "error",
     "traceback": [
      "\u001b[1;31m---------------------------------------------------------------------------\u001b[0m",
      "\u001b[1;31mIndexError\u001b[0m                                Traceback (most recent call last)",
      "\u001b[1;32m<ipython-input-48-12944069375b>\u001b[0m in \u001b[0;36m<module>\u001b[1;34m\u001b[0m\n\u001b[0;32m      4\u001b[0m     \u001b[0mprint\u001b[0m\u001b[1;33m(\u001b[0m\u001b[0mnum\u001b[0m\u001b[1;33m)\u001b[0m\u001b[1;33m\u001b[0m\u001b[1;33m\u001b[0m\u001b[0m\n\u001b[0;32m      5\u001b[0m     \u001b[1;32mfor\u001b[0m \u001b[0mk\u001b[0m \u001b[1;32min\u001b[0m \u001b[0mrange\u001b[0m\u001b[1;33m(\u001b[0m\u001b[1;36m10\u001b[0m\u001b[1;33m)\u001b[0m\u001b[1;33m:\u001b[0m\u001b[1;33m\u001b[0m\u001b[1;33m\u001b[0m\u001b[0m\n\u001b[1;32m----> 6\u001b[1;33m         \u001b[1;32mif\u001b[0m \u001b[0mstr\u001b[0m\u001b[1;33m(\u001b[0m\u001b[0mk\u001b[0m\u001b[1;33m)\u001b[0m \u001b[1;32min\u001b[0m \u001b[0mnum\u001b[0m\u001b[1;33m[\u001b[0m\u001b[0mi\u001b[0m\u001b[1;33m]\u001b[0m\u001b[1;33m:\u001b[0m\u001b[1;33m\u001b[0m\u001b[1;33m\u001b[0m\u001b[0m\n\u001b[0m\u001b[0;32m      7\u001b[0m             \u001b[0mnum_count\u001b[0m\u001b[1;33m[\u001b[0m\u001b[1;34mf'{str(k)}'\u001b[0m\u001b[1;33m]\u001b[0m \u001b[1;33m+=\u001b[0m \u001b[1;36m1\u001b[0m\u001b[1;33m\u001b[0m\u001b[1;33m\u001b[0m\u001b[0m\n\u001b[0;32m      8\u001b[0m         \u001b[1;32melse\u001b[0m\u001b[1;33m:\u001b[0m\u001b[1;33m\u001b[0m\u001b[1;33m\u001b[0m\u001b[0m\n",
      "\u001b[1;31mIndexError\u001b[0m: list index out of range"
     ]
    }
   ],
   "source": [
    "num_count = {'0': 0, '1': 0, '2': 0, '3': 0, '4': 0, '5': 0, '6': 0, '7': 0, '8': 0, '9': 0}\n",
    "for i in range(1, 1001):\n",
    "    num = list(str(i))\n",
    "    print(num)\n",
    "    for k in range(10):\n",
    "        if str(k) in num[i]:\n",
    "            num_count[f'{str(k)}'] += 1\n",
    "        else:\n",
    "            continue\n",
    "print(num_count)\n",
    "\n",
    "\n",
    "\n",
    "        "
   ]
  },
  {
   "cell_type": "markdown",
   "metadata": {},
   "source": [
    "### 연습문제 5"
   ]
  },
  {
   "cell_type": "code",
   "execution_count": 45,
   "metadata": {
    "tags": []
   },
   "outputs": [
    {
     "name": "stdout",
     "output_type": "stream",
     "text": [
      "가장 큰 대칭수: 580085, 세 자리 수: 995, 583\n"
     ]
    }
   ],
   "source": [
    "def is_palin(n):\n",
    "    num_str = str(n)\n",
    "    for i in range(len(num_str) // 2):\n",
    "        if num_str[i] != num_str[-1 - i]:\n",
    "            return False\n",
    "    return True\n",
    "palins = []\n",
    "for i in range(100, 1000):\n",
    "    for k in range(100, 1000):\n",
    "        mult = i * k\n",
    "        if is_palin(mult) == True:\n",
    "            palins.append([i, k, mult])\n",
    "li_pal = sorted(palins)\n",
    "print(f'가장 큰 대칭수: {li_pal[-1][2]}, 세 자리 수: {li_pal[-1][0]}, {li_pal[-1][1]}')"
   ]
  }
 ],
 "metadata": {
  "kernelspec": {
   "display_name": "Python 3",
   "language": "python",
   "name": "python3"
  },
  "language_info": {
   "codemirror_mode": {
    "name": "ipython",
    "version": 3
   },
   "file_extension": ".py",
   "mimetype": "text/x-python",
   "name": "python",
   "nbconvert_exporter": "python",
   "pygments_lexer": "ipython3",
   "version": "3.8.3"
  }
 },
 "nbformat": 4,
 "nbformat_minor": 4
}
