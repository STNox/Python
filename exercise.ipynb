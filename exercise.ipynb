{
 "cells": [
  {
   "cell_type": "markdown",
   "metadata": {},
   "source": [
    "### 연습문제 4.1"
   ]
  },
  {
   "cell_type": "code",
   "execution_count": 20,
   "metadata": {},
   "outputs": [
    {
     "name": "stdout",
     "output_type": "stream",
     "text": [
      "too low\n"
     ]
    }
   ],
   "source": [
    "import random\n",
    "\n",
    "secret = random.randint(1, 10)\n",
    "guess = random.randint(1, 10)\n",
    "\n",
    "if secret < guess:\n",
    "    print('too high')\n",
    "elif secret == guess:\n",
    "    print('just right')\n",
    "else:\n",
    "    print('too low')"
   ]
  },
  {
   "cell_type": "markdown",
   "metadata": {},
   "source": [
    "### 연습문제 4.2"
   ]
  },
  {
   "cell_type": "code",
   "execution_count": 21,
   "metadata": {},
   "outputs": [
    {
     "name": "stdout",
     "output_type": "stream",
     "text": [
      "cherry\n"
     ]
    }
   ],
   "source": [
    "small = True\n",
    "green = False\n",
    "\n",
    "if small:\n",
    "    if green:\n",
    "        print('pea')\n",
    "    else:\n",
    "        print('cherry')\n",
    "else:\n",
    "    if green:\n",
    "        print('watermelon')\n",
    "    else:\n",
    "        print('pumpkin')"
   ]
  },
  {
   "cell_type": "markdown",
   "metadata": {},
   "source": [
    "### 연습문제 5.1"
   ]
  },
  {
   "cell_type": "code",
   "execution_count": 27,
   "metadata": {},
   "outputs": [
    {
     "name": "stdout",
     "output_type": "stream",
     "text": [
      "When an eel grabs your arm, And it causes great harm, That's - a MORAY!\n"
     ]
    }
   ],
   "source": [
    "song = \"\"\"When an eel grabs your arm,\n",
    "And it causes great harm,\n",
    "That's - a moray!\"\"\"\n",
    "list_song = song.split()\n",
    "for i in range(len(list_song)):\n",
    "    if list_song[i].startswith('m'):\n",
    "        list_song[i] = list_song[i].upper()\n",
    "song = ' '.join(list_song)\n",
    "print(song)"
   ]
  },
  {
   "cell_type": "markdown",
   "metadata": {},
   "source": [
    "### 연습문제 5.2"
   ]
  },
  {
   "cell_type": "code",
   "execution_count": 47,
   "metadata": {},
   "outputs": [
    {
     "name": "stdout",
     "output_type": "stream",
     "text": [
      "Q: We don't serve strings around here. Are you a string?\n",
      "A: No, I'm a frayed knot.\n",
      "Q: What is said on Father's Day in the forest?\n",
      "A: 'Pop!' goes the weasel.\n",
      "Q: What makes the sound 'Sis! Boom! Bah!'?\n",
      "A: An exploding sheep.\n"
     ]
    }
   ],
   "source": [
    "questions = [\n",
    "    \"We don't serve strings around here. Are you a string?\",\n",
    "    \"What is said on Father's Day in the forest?\",\n",
    "    \"What makes the sound 'Sis! Boom! Bah!'?\"\n",
    "]\n",
    "answers = [\n",
    "    \"An exploding sheep.\",\n",
    "    \"No, I'm a frayed knot.\",\n",
    "    \"'Pop!' goes the weasel.\"\n",
    "]\n",
    "\n",
    "pair = [[questions[0], answers[1]], [questions[1], answers[2]], [questions[2], answers[0]]]\n",
    "total_sen = []\n",
    "for i in range(len(pair)):\n",
    "    sen = f'''Q: {pair[i][0]}\n",
    "A: {pair[i][1]}'''\n",
    "    total_sen.append(sen)\n",
    "for result in total_sen:\n",
    "    print(result, end='\\n')"
   ]
  },
  {
   "cell_type": "markdown",
   "metadata": {},
   "source": [
    "### 연습문제 5.3"
   ]
  },
  {
   "cell_type": "code",
   "execution_count": 50,
   "metadata": {},
   "outputs": [
    {
     "name": "stdout",
     "output_type": "stream",
     "text": [
      "My kitty cat likes roast beef, \n",
      "My kitty cat likes ham, \n",
      "My kitty cat fell on his head And now thinks he's a clam.\n"
     ]
    }
   ],
   "source": [
    "poem = \"\"\"My kitty cat likes %s, \n",
    "My kitty cat likes %s, \n",
    "My kitty cat fell on his %s And now thinks he's a %s.\"\"\" % ('roast beef', 'ham', 'head', 'clam')\n",
    "print(poem)"
   ]
  },
  {
   "cell_type": "markdown",
   "metadata": {},
   "source": [
    "### 연습문제 5.4"
   ]
  },
  {
   "cell_type": "code",
   "execution_count": 55,
   "metadata": {},
   "outputs": [],
   "source": [
    "letter =\"\"\"Dear {salutation} {name},\n",
    "    Thank you for your letter. We are sorry that out {product} {verbed} in your {room}. Please note that it should never be used in a {room}, especially near any {animals}.\n",
    "    Send us your receipt and {amount} for shipping and handling. We will send you another {product} that, in our tests, is {percent}% less likely to have {verbed}.\n",
    "    Thank you for your support.\n",
    "    Sincerely,\n",
    "    {spokesman}\n",
    "    {job_title}\"\"\""
   ]
  },
  {
   "cell_type": "markdown",
   "metadata": {},
   "source": [
    "### 연습문제 5.5"
   ]
  },
  {
   "cell_type": "code",
   "execution_count": 57,
   "metadata": {},
   "outputs": [
    {
     "name": "stdout",
     "output_type": "stream",
     "text": [
      "Dear Mr. Johnson,\n",
      "    Thank you for your letter. We are sorry that out Galaxy exploded in your bathroom. Please note that it should never be used in a bathroom, especially near any ostrich.\n",
      "    Send us your receipt and cash for shipping and handling. We will send you another Galaxy that, in our tests, is 1% less likely to have exploded.\n",
      "    Thank you for your support.\n",
      "    Sincerely,\n",
      "    Dicky Wick\n",
      "    Plumber\n"
     ]
    }
   ],
   "source": [
    "print(letter.format(salutation='Mr.', name='Johnson', product='Galaxy', verbed='exploded', room='bathroom', animals='ostrich', amount='cash', percent='1', spokesman='Dicky Wick', job_title=\"Plumber\"))"
   ]
  },
  {
   "cell_type": "markdown",
   "metadata": {},
   "source": [
    "### 연습문제 5.6"
   ]
  },
  {
   "cell_type": "code",
   "execution_count": 65,
   "metadata": {},
   "outputs": [
    {
     "name": "stdout",
     "output_type": "stream",
     "text": [
      "Ducky McDuckface\n",
      "Gourdy McGourdface\n",
      "Spitzy McSpitzface\n"
     ]
    }
   ],
   "source": [
    "names = ['Duck', 'Gourd', 'Spitz']\n",
    "new_names = []\n",
    "for i in range(len(names)):\n",
    "    new_name = '%sy Mc%sface' % (names[i], names[i])\n",
    "    new_names.append(new_name)\n",
    "for k in new_names:\n",
    "    print(k, end='\\n')\n"
   ]
  },
  {
   "cell_type": "markdown",
   "metadata": {},
   "source": [
    "### 연습문제 5.7"
   ]
  },
  {
   "cell_type": "code",
   "execution_count": 74,
   "metadata": {},
   "outputs": [
    {
     "name": "stdout",
     "output_type": "stream",
     "text": [
      "Ducky McDuckface\n",
      "Gourdy McGourdface\n",
      "Spitzy McSpitzface\n"
     ]
    }
   ],
   "source": [
    "names = ['Duck', 'Gourd', 'Spitz']\n",
    "new_names2 = []\n",
    "for i in range(len(names)):\n",
    "    new_name = '{}y Mc{}face'.format(names[i], names[i])\n",
    "    new_names2.append(new_name)\n",
    "for k in new_names2:\n",
    "    print(k, end='\\n')"
   ]
  },
  {
   "cell_type": "markdown",
   "metadata": {},
   "source": [
    "### 연습문제 5.8"
   ]
  },
  {
   "cell_type": "code",
   "execution_count": 76,
   "metadata": {},
   "outputs": [
    {
     "name": "stdout",
     "output_type": "stream",
     "text": [
      "Ducky McDuckface\n",
      "Gourdy McGourdface\n",
      "Spitzy McSpitzface\n"
     ]
    }
   ],
   "source": [
    "names = ['Duck', 'Gourd', 'Spitz']\n",
    "new_names3 = []\n",
    "for i in range(len(names)):\n",
    "    new_name = f'{names[i]}y Mc{names[i]}face'\n",
    "    new_names3.append(new_name)\n",
    "for k in new_names3:\n",
    "    print(k, end='\\n')"
   ]
  },
  {
   "cell_type": "code",
   "execution_count": null,
   "metadata": {},
   "outputs": [],
   "source": []
  }
 ],
 "metadata": {
  "kernelspec": {
   "display_name": "Python 3",
   "language": "python",
   "name": "python3"
  },
  "language_info": {
   "codemirror_mode": {
    "name": "ipython",
    "version": 3
   },
   "file_extension": ".py",
   "mimetype": "text/x-python",
   "name": "python",
   "nbconvert_exporter": "python",
   "pygments_lexer": "ipython3",
   "version": "3.8.3"
  }
 },
 "nbformat": 4,
 "nbformat_minor": 4
}
